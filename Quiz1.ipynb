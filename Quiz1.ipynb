{
 "cells": [
  {
   "cell_type": "markdown",
   "metadata": {},
   "source": [
    "# Quiz 1\n",
    "Instrucciones: Soy uno de tu clientes. Te pedi desde el 2019 que invirtieras mi dinero en AlphaOmega. Ya pasaron 5 años y quiero ver mi metricas de rendimiento y riesgo.\n",
    "\n",
    "Puedes obtener 0.25 puntos extras por cada respuesta si usas data frames de pandas y sus respectivos metodos para contestar la pregunta."
   ]
  },
  {
   "cell_type": "markdown",
   "metadata": {},
   "source": [
    "## Pregunta 1"
   ]
  },
  {
   "cell_type": "markdown",
   "metadata": {},
   "source": [
    "Si los cierres anuales del precio de AlphaOmega son:\n",
    "\n",
    "| Año  | Adj Close |\n",
    "| ---- | --------- |\n",
    "| 2019 | 20        |\n",
    "| 2020 | 23        |\n",
    "| 2021 | 15        |\n",
    "| 2022 | 18        |\n",
    "| 2023 | 21        |\n",
    "\n",
    "¿Cuales son los rendimientos anuales de la acción?"
   ]
  },
  {
   "cell_type": "code",
   "execution_count": 3,
   "metadata": {
    "tags": []
   },
   "outputs": [],
   "source": [
    "# Importamos la librería pandas\n",
    "import pandas as pd"
   ]
  },
  {
   "cell_type": "code",
   "execution_count": 21,
   "metadata": {},
   "outputs": [
    {
     "data": {
      "text/html": [
       "<div>\n",
       "<style scoped>\n",
       "    .dataframe tbody tr th:only-of-type {\n",
       "        vertical-align: middle;\n",
       "    }\n",
       "\n",
       "    .dataframe tbody tr th {\n",
       "        vertical-align: top;\n",
       "    }\n",
       "\n",
       "    .dataframe thead th {\n",
       "        text-align: right;\n",
       "    }\n",
       "</style>\n",
       "<table border=\"1\" class=\"dataframe\">\n",
       "  <thead>\n",
       "    <tr style=\"text-align: right;\">\n",
       "      <th></th>\n",
       "      <th>adj_close</th>\n",
       "      <th>return</th>\n",
       "    </tr>\n",
       "    <tr>\n",
       "      <th>year</th>\n",
       "      <th></th>\n",
       "      <th></th>\n",
       "    </tr>\n",
       "  </thead>\n",
       "  <tbody>\n",
       "    <tr>\n",
       "      <th>2019</th>\n",
       "      <td>20</td>\n",
       "      <td>NaN</td>\n",
       "    </tr>\n",
       "    <tr>\n",
       "      <th>2020</th>\n",
       "      <td>23</td>\n",
       "      <td>0.150000</td>\n",
       "    </tr>\n",
       "    <tr>\n",
       "      <th>2021</th>\n",
       "      <td>15</td>\n",
       "      <td>-0.347826</td>\n",
       "    </tr>\n",
       "    <tr>\n",
       "      <th>2022</th>\n",
       "      <td>18</td>\n",
       "      <td>0.200000</td>\n",
       "    </tr>\n",
       "    <tr>\n",
       "      <th>2023</th>\n",
       "      <td>21</td>\n",
       "      <td>0.166667</td>\n",
       "    </tr>\n",
       "  </tbody>\n",
       "</table>\n",
       "</div>"
      ],
      "text/plain": [
       "      adj_close    return\n",
       "year                     \n",
       "2019         20       NaN\n",
       "2020         23  0.150000\n",
       "2021         15 -0.347826\n",
       "2022         18  0.200000\n",
       "2023         21  0.166667"
      ]
     },
     "execution_count": 21,
     "metadata": {},
     "output_type": "execute_result"
    }
   ],
   "source": [
    "# Creamos tabla\n",
    "tabla = pd.DataFrame(index=range(2019, 2024))\n",
    "tabla.index.name = 'year'\n",
    "tabla['adj_close']=[20,23,15,18,21]\n",
    "tabla['return']= tabla['adj_close'].pct_change()\n",
    "tabla"
   ]
  },
  {
   "cell_type": "code",
   "execution_count": null,
   "metadata": {},
   "outputs": [],
   "source": []
  },
  {
   "cell_type": "markdown",
   "metadata": {},
   "source": [
    "## Pregunta 2"
   ]
  },
  {
   "cell_type": "markdown",
   "metadata": {},
   "source": [
    "¿cuál fue el rendimiento **total** en los años de la inversión?\n",
    "\n",
    "Si no pudiste obtener los rendimientos anuales pasados usa los siguientes:\n",
    "* 20% al final del primer año, \n",
    "* -50% al final del segundo año,\n",
    "* 50% al final del tercer año y\n",
    "* 20% al final del cuarto año"
   ]
  },
  {
   "cell_type": "code",
   "execution_count": 27,
   "metadata": {},
   "outputs": [
    {
     "name": "stdout",
     "output_type": "stream",
     "text": [
      "El rendimiento total en los años de la inversión es: 1.5999999999999979\n"
     ]
    }
   ],
   "source": [
    "# Definir los rendimientos anuales\n",
    "rendimientos_anuales = [0.20, -0.50, 0.50, 0.20]\n",
    "\n",
    "# Calcular el rendimiento total\n",
    "rendimiento_total = 20.0  # Inicializar en 1.0, ya que multiplicaremos\n",
    "\n",
    "for rendimiento in rendimientos_anuales:\n",
    "    rendimiento_total *= (1 + rendimiento)\n",
    "\n",
    "# Imprimir el resultado\n",
    "print(\"El rendimiento total en los años de la inversión es:\", rendimiento_total-20)\n"
   ]
  },
  {
   "cell_type": "markdown",
   "metadata": {},
   "source": [
    "## Pregunta 3"
   ]
  },
  {
   "cell_type": "markdown",
   "metadata": {},
   "source": [
    "Yo como cliente quiero saber que viene para este siguiente año. Le pides al economista de tu equipo que te pase las probabilidades de recesión, normalidad y expansión de la economía de la industria. Las probabilidades son de 40%, 30%, y 30% respectivamente. Por analisis historicos previos sabes que el rendimiento esperado es de -10% en caso de recesión, 8% en caso de normalidad y 23% en caso de expansión. ¿Cuál sería el rendimiento esperado anual de mi inversión? "
   ]
  },
  {
   "cell_type": "code",
   "execution_count": 25,
   "metadata": {},
   "outputs": [
    {
     "name": "stdout",
     "output_type": "stream",
     "text": [
      "El rendimiento esperado anual de la inversión es: 0.053\n"
     ]
    }
   ],
   "source": [
    "# Definir probabilidades y rendimientos para cada escenario\n",
    "probabilidad_recesion = 0.40\n",
    "probabilidad_normalidad = 0.30\n",
    "probabilidad_expansion = 0.30\n",
    "\n",
    "rendimiento_recesion = -0.10\n",
    "rendimiento_normalidad = 0.08\n",
    "rendimiento_expansion = 0.23\n",
    "\n",
    "# Calcular el rendimiento esperado anual\n",
    "rendimiento_esperado = (probabilidad_recesion * rendimiento_recesion +\n",
    "                        probabilidad_normalidad * rendimiento_normalidad +\n",
    "                        probabilidad_expansion * rendimiento_expansion)\n",
    "\n",
    "# Imprimir el resultado\n",
    "print(\"El rendimiento esperado anual de la inversión es:\", rendimiento_esperado)\n"
   ]
  },
  {
   "cell_type": "code",
   "execution_count": 19,
   "metadata": {},
   "outputs": [
    {
     "data": {
      "text/html": [
       "<div>\n",
       "<style scoped>\n",
       "    .dataframe tbody tr th:only-of-type {\n",
       "        vertical-align: middle;\n",
       "    }\n",
       "\n",
       "    .dataframe tbody tr th {\n",
       "        vertical-align: top;\n",
       "    }\n",
       "\n",
       "    .dataframe thead th {\n",
       "        text-align: right;\n",
       "    }\n",
       "</style>\n",
       "<table border=\"1\" class=\"dataframe\">\n",
       "  <thead>\n",
       "    <tr style=\"text-align: right;\">\n",
       "      <th></th>\n",
       "      <th>Prob</th>\n",
       "      <th>Rend</th>\n",
       "    </tr>\n",
       "  </thead>\n",
       "  <tbody>\n",
       "    <tr>\n",
       "      <th>0</th>\n",
       "      <td>0.4</td>\n",
       "      <td>-0.10</td>\n",
       "    </tr>\n",
       "    <tr>\n",
       "      <th>1</th>\n",
       "      <td>0.3</td>\n",
       "      <td>0.08</td>\n",
       "    </tr>\n",
       "    <tr>\n",
       "      <th>2</th>\n",
       "      <td>0.3</td>\n",
       "      <td>0.23</td>\n",
       "    </tr>\n",
       "  </tbody>\n",
       "</table>\n",
       "</div>"
      ],
      "text/plain": [
       "   Prob  Rend\n",
       "0   0.4 -0.10\n",
       "1   0.3  0.08\n",
       "2   0.3  0.23"
      ]
     },
     "execution_count": 19,
     "metadata": {},
     "output_type": "execute_result"
    }
   ],
   "source": [
    "# Creamos tabla\n",
    "tabla5 = pd.DataFrame({'Prob': [0.4, 0.3, 0.3],\n",
    "                       'Rend': [-0.1, 0.08, 0.23]\n",
    "                      })\n",
    "\n",
    "tabla5"
   ]
  },
  {
   "cell_type": "code",
   "execution_count": 20,
   "metadata": {},
   "outputs": [
    {
     "data": {
      "text/plain": [
       "0.018981000000000005"
      ]
     },
     "execution_count": 20,
     "metadata": {},
     "output_type": "execute_result"
    }
   ],
   "source": [
    "#Obtener esperanza\n",
    "\n",
    "Esperanza_A = (tabla5['Prob'] * tabla5['Rend']).sum()\n",
    "\n",
    "#obtener Varianza\n",
    "\n",
    "var_A = (tabla5['Prob'] * (tabla5['Rend'] - Esperanza_A)**2).sum()\n",
    "var_A"
   ]
  },
  {
   "cell_type": "markdown",
   "metadata": {},
   "source": [
    "## Pregunta 4"
   ]
  },
  {
   "cell_type": "markdown",
   "metadata": {},
   "source": [
    "Estoy medio asustado por como se ven las cosas con los escenarios que planteas. Quiero que me digas que tanto se podría mover mi rendimiento de acuerdo al valor esperado.\n",
    "\n",
    "Usando el mismo escenario de la pregunta previa, ¿cual es la volatilidad (desviación estandar) del activo?"
   ]
  },
  {
   "cell_type": "code",
   "execution_count": 18,
   "metadata": {},
   "outputs": [
    {
     "name": "stdout",
     "output_type": "stream",
     "text": [
      "La volatilidad del activo es: 0.13777155003846042\n"
     ]
    }
   ],
   "source": [
    "# Calcular la varianza\n",
    "varianza = (probabilidad_recesion * (rendimiento_recesion - rendimiento_esperado)**2 +\n",
    "            probabilidad_normalidad * (rendimiento_normalidad - rendimiento_esperado)**2 +\n",
    "            probabilidad_expansion * (rendimiento_expansion - rendimiento_esperado)**2)\n",
    "\n",
    "# Calcular la volatilidad como la raíz cuadrada de la varianza\n",
    "volatilidad = varianza**0.5\n",
    "\n",
    "# Imprimir el resultado\n",
    "print(\"La volatilidad del activo es:\", volatilidad)\n"
   ]
  }
 ],
 "metadata": {
  "kernelspec": {
   "display_name": "Python 3 (ipykernel)",
   "language": "python",
   "name": "python3"
  },
  "language_info": {
   "codemirror_mode": {
    "name": "ipython",
    "version": 3
   },
   "file_extension": ".py",
   "mimetype": "text/x-python",
   "name": "python",
   "nbconvert_exporter": "python",
   "pygments_lexer": "ipython3",
   "version": "3.9.13"
  }
 },
 "nbformat": 4,
 "nbformat_minor": 4
}
